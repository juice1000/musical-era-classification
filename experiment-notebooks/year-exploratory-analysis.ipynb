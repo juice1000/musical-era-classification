{
 "cells": [
  {
   "cell_type": "markdown",
   "metadata": {
    "collapsed": true
   },
   "source": [
    "## Exploring the simplified year predictions dataset\n",
    "\n",
    "Thus far, we've observed that our neural net is only classifying a single class. We hypothesize that this might have to do with the dataset being heavily biased towards a particular handful of classes. This might give us some insight into how we can properly modify our network."
   ]
  },
  {
   "cell_type": "code",
   "execution_count": 4,
   "metadata": {
    "collapsed": true,
    "pycharm": {
     "is_executing": false
    }
   },
   "outputs": [],
   "source": [
    "%matplotlib inline\n",
    "import matplotlib\n",
    "from matplotlib import pyplot as plt"
   ]
  },
  {
   "cell_type": "code",
   "execution_count": 5,
   "metadata": {
    "collapsed": true,
    "pycharm": {
     "is_executing": false
    }
   },
   "outputs": [],
   "source": [
    "from sklearn.neural_network import MLPClassifier\n",
    "from sklearn.metrics import accuracy_score\n",
    "from sklearn.metrics import precision_recall_fscore_support\n",
    "import numpy as np"
   ]
  },
  {
   "cell_type": "markdown",
   "metadata": {
    "collapsed": true
   },
   "source": [
    "Getting the labels and examples from the csv file"
   ]
  },
  {
   "cell_type": "code",
   "execution_count": 6,
   "metadata": {
    "collapsed": true,
    "pycharm": {
     "is_executing": false
    }
   },
   "outputs": [],
   "source": [
    "labels = []\n",
    "examples = []\n",
    "\n",
    "# Replace filename with the path to the CSV where you have the year predictions data saved.\n",
    "filename = \"/home/juice100/PycharmProjects/Cyanite/YearPredictionMSD.txt\"\n",
    "with open(filename, 'r') as f:\n",
    "    for line in f:\n",
    "        content = line.split(\",\")\n",
    "        \n",
    "        labels.append(int(content[0]))\n",
    "\n",
    "        content.pop(0)\n",
    "\n",
    "        content = [float(elem) for elem in content]\n",
    "\n",
    "        # If we want a list of numpy arrays, not necessary\n",
    "        #npa = np.asarray(content, dtype=np.float64)\n",
    "\n",
    "        examples.append(content)"
   ]
  },
  {
   "cell_type": "code",
   "execution_count": 7,
   "metadata": {
    "collapsed": true,
    "pycharm": {
     "is_executing": false
    }
   },
   "outputs": [],
   "source": [
    "total_array = np.array(examples)"
   ]
  },
  {
   "cell_type": "code",
   "execution_count": 8,
   "metadata": {
    "pycharm": {
     "is_executing": false
    }
   },
   "outputs": [
    {
     "data": {
      "text/plain": "array([[ 4.994357e+01,  2.147114e+01,  7.307750e+01, ..., -1.822230e+00,\n        -2.746348e+01,  2.263270e+00],\n       [ 4.873215e+01,  1.842930e+01,  7.032679e+01, ...,  1.204941e+01,\n         5.843453e+01,  2.692061e+01],\n       [ 5.095714e+01,  3.185602e+01,  5.581851e+01, ..., -5.859000e-02,\n         3.967068e+01, -6.634500e-01],\n       ...,\n       [ 4.512852e+01,  1.265758e+01, -3.872018e+01, ..., -6.071710e+00,\n         5.396319e+01, -8.093640e+00],\n       [ 4.416614e+01,  3.238368e+01, -3.349710e+00, ...,  2.032240e+01,\n         1.483107e+01,  3.974909e+01],\n       [ 5.185726e+01,  5.911655e+01,  2.639436e+01, ..., -5.515120e+00,\n         3.235602e+01,  1.217352e+01]])"
     },
     "metadata": {},
     "output_type": "execute_result",
     "execution_count": 8
    }
   ],
   "source": [
    "total_array"
   ]
  },
  {
   "cell_type": "code",
   "execution_count": 9,
   "metadata": {
    "collapsed": true,
    "pycharm": {
     "is_executing": false
    }
   },
   "outputs": [],
   "source": [
    "total_labels = np.array(labels)"
   ]
  },
  {
   "cell_type": "code",
   "execution_count": 10,
   "metadata": {
    "pycharm": {
     "is_executing": false
    }
   },
   "outputs": [
    {
     "data": {
      "text/plain": "array([2001, 2001, 2001, ..., 2006, 2006, 2005])"
     },
     "metadata": {},
     "output_type": "execute_result",
     "execution_count": 10
    }
   ],
   "source": [
    "total_labels"
   ]
  },
  {
   "cell_type": "code",
   "execution_count": 11,
   "metadata": {
    "collapsed": true,
    "pycharm": {
     "is_executing": false
    }
   },
   "outputs": [],
   "source": [
    "training_examples = total_array[:10000]"
   ]
  },
  {
   "cell_type": "code",
   "execution_count": 12,
   "metadata": {
    "collapsed": true,
    "pycharm": {
     "is_executing": false
    }
   },
   "outputs": [],
   "source": [
    "training_labels = total_labels[:10000]"
   ]
  },
  {
   "cell_type": "markdown",
   "metadata": {
    "collapsed": true
   },
   "source": [
    "Observing the distribution of classes in the the training labels. Heavily biased towards late 90's/early 2000s, but it isn't entirely skewed. Neural net should still perform well. Maybe we should use random samples as opposed to the first 10000?"
   ]
  },
  {
   "cell_type": "code",
   "execution_count": 13,
   "metadata": {
    "scrolled": true,
    "pycharm": {
     "is_executing": false
    }
   },
   "outputs": [
    {
     "data": {
      "text/plain": "(array([  3.,   0.,   1.,   0.,   1.,   0.,   0.,   0.,   0.,   0.,   5.,\n          1.,   1.,   0.,   6.,   0.,   0.,   0.,   0.,   0.,   0.,   0.,\n          0.,   0.,   6.,   0.,   0.,   8.,   0.,   3.,  21.,   1.,   7.,\n         27.,  26.,  46.,  21.,  18.,  27.,  56.,  30.,  76.,  44.,  48.,\n         35.,  54.,  38.,  18.,  55.,  46.,  59.,  48.,  62.,  15.,  44.,\n         40.,  86., 122., 140., 115., 146., 159., 263., 230., 318., 228.,\n        313., 348., 385., 369., 456., 507., 535., 795., 711., 717., 774.,\n        738., 548.]),\n array([1930.        , 1931.01265823, 1932.02531646, 1933.03797468,\n        1934.05063291, 1935.06329114, 1936.07594937, 1937.08860759,\n        1938.10126582, 1939.11392405, 1940.12658228, 1941.13924051,\n        1942.15189873, 1943.16455696, 1944.17721519, 1945.18987342,\n        1946.20253165, 1947.21518987, 1948.2278481 , 1949.24050633,\n        1950.25316456, 1951.26582278, 1952.27848101, 1953.29113924,\n        1954.30379747, 1955.3164557 , 1956.32911392, 1957.34177215,\n        1958.35443038, 1959.36708861, 1960.37974684, 1961.39240506,\n        1962.40506329, 1963.41772152, 1964.43037975, 1965.44303797,\n        1966.4556962 , 1967.46835443, 1968.48101266, 1969.49367089,\n        1970.50632911, 1971.51898734, 1972.53164557, 1973.5443038 ,\n        1974.55696203, 1975.56962025, 1976.58227848, 1977.59493671,\n        1978.60759494, 1979.62025316, 1980.63291139, 1981.64556962,\n        1982.65822785, 1983.67088608, 1984.6835443 , 1985.69620253,\n        1986.70886076, 1987.72151899, 1988.73417722, 1989.74683544,\n        1990.75949367, 1991.7721519 , 1992.78481013, 1993.79746835,\n        1994.81012658, 1995.82278481, 1996.83544304, 1997.84810127,\n        1998.86075949, 1999.87341772, 2000.88607595, 2001.89873418,\n        2002.91139241, 2003.92405063, 2004.93670886, 2005.94936709,\n        2006.96202532, 2007.97468354, 2008.98734177, 2010.        ]),\n <a list of 79 Patch objects>)"
     },
     "metadata": {},
     "output_type": "execute_result",
     "execution_count": 13
    },
    {
     "data": {
      "text/plain": "<Figure size 432x288 with 1 Axes>",
      "image/png": "[encoded data removed]"
     },
     "metadata": {
      "needs_background": "light"
     },
     "output_type": "display_data"
    }
   ],
   "source": [
    "plt.hist(training_labels, bins='auto')"
   ]
  },
  {
   "cell_type": "code",
   "execution_count": 14,
   "metadata": {
    "collapsed": true,
    "pycharm": {
     "is_executing": false
    }
   },
   "outputs": [],
   "source": [
    "plt.show()"
   ]
  },
  {
   "cell_type": "code",
   "execution_count": 15,
   "metadata": {
    "pycharm": {
     "is_executing": false
    }
   },
   "outputs": [
    {
     "data": {
      "text/plain": "(10000,)"
     },
     "metadata": {},
     "output_type": "execute_result",
     "execution_count": 15
    }
   ],
   "source": [
    "training_labels.shape"
   ]
  },
  {
   "cell_type": "markdown",
   "metadata": {
    "collapsed": true
   },
   "source": [
    "The histogram tells us that the first 10,000 training examples heavily favor music from the early 2000s."
   ]
  },
  {
   "cell_type": "code",
   "execution_count": 16,
   "metadata": {
    "scrolled": false,
    "pycharm": {
     "is_executing": false
    }
   },
   "outputs": [
    {
     "data": {
      "text/plain": "(array([  3.,   0.,   0.,   1.,   0.,   0.,   1.,   0.,   0.,   0.,   0.,\n          0.,   0.,   5.,   0.,   1.,   1.,   0.,   6.,   0.,   0.,   0.,\n          0.,   0.,   0.,   0.,   0.,   0.,   0.,   0.,   0.,   6.,   0.,\n          0.,   0.,   8.,   0.,   3.,  21.,   0.,   1.,   7.,  27.,  26.,\n          0.,  46.,  21.,  18.,  27.,   0.,  56.,  30.,  76.,  44.,   0.,\n         48.,  35.,  54.,  38.,   0.,  18.,  55.,  46.,  59.,   0.,  48.,\n         62.,  15.,  44.,   0.,  40.,  86., 122., 140.,   0., 115., 146.,\n        159., 263.,   0., 230., 318., 228., 313.,   0., 348., 385., 369.,\n        456.,   0., 507., 535., 795., 711.,   0., 717., 774., 738., 450.,\n         98.]),\n array([1930. , 1930.8, 1931.6, 1932.4, 1933.2, 1934. , 1934.8, 1935.6,\n        1936.4, 1937.2, 1938. , 1938.8, 1939.6, 1940.4, 1941.2, 1942. ,\n        1942.8, 1943.6, 1944.4, 1945.2, 1946. , 1946.8, 1947.6, 1948.4,\n        1949.2, 1950. , 1950.8, 1951.6, 1952.4, 1953.2, 1954. , 1954.8,\n        1955.6, 1956.4, 1957.2, 1958. , 1958.8, 1959.6, 1960.4, 1961.2,\n        1962. , 1962.8, 1963.6, 1964.4, 1965.2, 1966. , 1966.8, 1967.6,\n        1968.4, 1969.2, 1970. , 1970.8, 1971.6, 1972.4, 1973.2, 1974. ,\n        1974.8, 1975.6, 1976.4, 1977.2, 1978. , 1978.8, 1979.6, 1980.4,\n        1981.2, 1982. , 1982.8, 1983.6, 1984.4, 1985.2, 1986. , 1986.8,\n        1987.6, 1988.4, 1989.2, 1990. , 1990.8, 1991.6, 1992.4, 1993.2,\n        1994. , 1994.8, 1995.6, 1996.4, 1997.2, 1998. , 1998.8, 1999.6,\n        2000.4, 2001.2, 2002. , 2002.8, 2003.6, 2004.4, 2005.2, 2006. ,\n        2006.8, 2007.6, 2008.4, 2009.2, 2010. ]),\n <a list of 100 Patch objects>)"
     },
     "metadata": {},
     "output_type": "execute_result",
     "execution_count": 16
    },
    {
     "data": {
      "text/plain": "<Figure size 432x288 with 1 Axes>",
      "image/png": "[encoded data removed]"
     },
     "metadata": {
      "needs_background": "light"
     },
     "output_type": "display_data"
    }
   ],
   "source": [
    "plt.hist(training_labels, bins=100)"
   ]
  },
  {
   "cell_type": "markdown",
   "metadata": {},
   "source": [
    "The overall training set is also heavily biased towards music from the early the late 90s and early 2000s."
   ]
  },
  {
   "cell_type": "code",
   "execution_count": 17,
   "metadata": {
    "pycharm": {
     "is_executing": false
    }
   },
   "outputs": [
    {
     "data": {
      "text/plain": "(array([6.0000e+00, 0.0000e+00, 5.0000e+00, 7.0000e+00, 1.9000e+01,\n        4.2000e+01, 5.2000e+01, 9.3000e+01, 4.0000e+01, 0.0000e+00,\n        3.5000e+01, 1.1000e+01, 6.0000e+00, 2.9000e+01, 2.4000e+01,\n        2.5000e+01, 2.8000e+01, 1.9000e+01, 0.0000e+00, 3.5000e+01,\n        5.2000e+01, 3.2000e+01, 2.4000e+01, 1.4000e+01, 1.5000e+01,\n        3.0000e+01, 2.9000e+01, 0.0000e+00, 5.7000e+01, 4.3000e+01,\n        6.0000e+01, 8.3000e+01, 7.4000e+01, 7.7000e+01, 1.3300e+02,\n        1.2300e+02, 0.0000e+00, 2.7500e+02, 5.6500e+02, 5.9700e+02,\n        5.8300e+02, 5.9200e+02, 4.2400e+02, 5.7100e+02, 6.0500e+02,\n        0.0000e+00, 9.0200e+02, 9.4500e+02, 1.1200e+03, 1.3770e+03,\n        1.7180e+03, 1.8670e+03, 2.2100e+03, 2.3490e+03, 0.0000e+00,\n        2.1310e+03, 2.2880e+03, 2.5960e+03, 2.1840e+03, 2.4820e+03,\n        2.1790e+03, 2.5020e+03, 2.9260e+03, 0.0000e+00, 3.1080e+03,\n        3.1010e+03, 3.1620e+03, 3.5970e+03, 3.3860e+03, 3.3680e+03,\n        3.5780e+03, 4.2190e+03, 0.0000e+00, 5.1220e+03, 5.6110e+03,\n        6.6700e+03, 7.2560e+03, 8.6470e+03, 9.5430e+03, 1.0525e+04,\n        1.2121e+04, 0.0000e+00, 1.3257e+04, 1.4130e+04, 1.5182e+04,\n        1.5814e+04, 1.8238e+04, 1.9285e+04, 2.1590e+04, 2.3451e+04,\n        0.0000e+00, 2.7382e+04, 2.9607e+04, 3.4952e+04, 3.7534e+04,\n        3.9404e+04, 3.4760e+04, 3.1038e+04, 9.3960e+03, 1.0000e+00]),\n array([1922.  , 1922.89, 1923.78, 1924.67, 1925.56, 1926.45, 1927.34,\n        1928.23, 1929.12, 1930.01, 1930.9 , 1931.79, 1932.68, 1933.57,\n        1934.46, 1935.35, 1936.24, 1937.13, 1938.02, 1938.91, 1939.8 ,\n        1940.69, 1941.58, 1942.47, 1943.36, 1944.25, 1945.14, 1946.03,\n        1946.92, 1947.81, 1948.7 , 1949.59, 1950.48, 1951.37, 1952.26,\n        1953.15, 1954.04, 1954.93, 1955.82, 1956.71, 1957.6 , 1958.49,\n        1959.38, 1960.27, 1961.16, 1962.05, 1962.94, 1963.83, 1964.72,\n        1965.61, 1966.5 , 1967.39, 1968.28, 1969.17, 1970.06, 1970.95,\n        1971.84, 1972.73, 1973.62, 1974.51, 1975.4 , 1976.29, 1977.18,\n        1978.07, 1978.96, 1979.85, 1980.74, 1981.63, 1982.52, 1983.41,\n        1984.3 , 1985.19, 1986.08, 1986.97, 1987.86, 1988.75, 1989.64,\n        1990.53, 1991.42, 1992.31, 1993.2 , 1994.09, 1994.98, 1995.87,\n        1996.76, 1997.65, 1998.54, 1999.43, 2000.32, 2001.21, 2002.1 ,\n        2002.99, 2003.88, 2004.77, 2005.66, 2006.55, 2007.44, 2008.33,\n        2009.22, 2010.11, 2011.  ]),\n <a list of 100 Patch objects>)"
     },
     "metadata": {},
     "output_type": "execute_result",
     "execution_count": 17
    },
    {
     "data": {
      "text/plain": "<Figure size 432x288 with 1 Axes>",
      "image/png": "[encoded data removed]"
     },
     "metadata": {
      "needs_background": "light"
     },
     "output_type": "display_data"
    }
   ],
   "source": [
    "plt.hist(total_labels, bins=100)"
   ]
  },
  {
   "cell_type": "markdown",
   "metadata": {},
   "source": [
    "Getting test examples from the bottom 1000 array elements"
   ]
  },
  {
   "cell_type": "code",
   "execution_count": 18,
   "metadata": {
    "collapsed": true,
    "pycharm": {
     "is_executing": false
    }
   },
   "outputs": [],
   "source": [
    "test_examples = total_array[-1000:]\n",
    "test_labels = total_labels[-1000:]"
   ]
  },
  {
   "cell_type": "markdown",
   "metadata": {},
   "source": [
    "Train and fit the classifier"
   ]
  },
  {
   "cell_type": "code",
   "execution_count": 19,
   "metadata": {
    "pycharm": {
     "is_executing": false
    }
   },
   "outputs": [
    {
     "data": {
      "text/plain": "MLPClassifier(alpha=1e-05, hidden_layer_sizes=(100, 100, 100, 100),\n              random_state=1, solver='sgd')"
     },
     "metadata": {},
     "output_type": "execute_result",
     "execution_count": 19
    }
   ],
   "source": [
    "clf = MLPClassifier(solver='sgd', alpha=1e-5,\n",
    "                     hidden_layer_sizes=(100, 100, 100, 100), random_state=1)\n",
    "\n",
    "clf.fit(training_examples, training_labels)   "
   ]
  },
  {
   "cell_type": "code",
   "execution_count": 20,
   "metadata": {
    "collapsed": true,
    "pycharm": {
     "is_executing": false
    }
   },
   "outputs": [],
   "source": [
    "y_pred = clf.predict(test_examples)"
   ]
  },
  {
   "cell_type": "markdown",
   "metadata": {
    "collapsed": true
   },
   "source": [
    "Observing the predictions: 2004 is the only represnted example..."
   ]
  },
  {
   "cell_type": "code",
   "execution_count": 21,
   "metadata": {
    "pycharm": {
     "is_executing": false
    }
   },
   "outputs": [
    {
     "data": {
      "text/plain": "(array([999.,   0.,   0.,   0.,   0.,   0.,   0.,   0.,   0.,   0.,   0.,\n          0.,   0.,   0.,   0.,   0.,   0.,   0.,   0.,   0.,   0.,   0.,\n          0.,   0.,   0.,   0.,   0.,   0.,   0.,   0.,   0.,   0.,   0.,\n          0.,   0.,   0.,   0.,   0.,   0.,   0.,   0.,   0.,   0.,   0.,\n          0.,   0.,   0.,   0.,   0.,   0.,   0.,   0.,   0.,   0.,   0.,\n          0.,   0.,   0.,   0.,   0.,   0.,   0.,   0.,   0.,   0.,   0.,\n          0.,   0.,   0.,   0.,   0.,   0.,   0.,   0.,   0.,   0.,   0.,\n          0.,   0.,   0.,   0.,   0.,   0.,   0.,   0.,   0.,   0.,   0.,\n          0.,   0.,   0.,   0.,   0.,   0.,   0.,   0.,   0.,   0.,   0.,\n          1.]),\n array([2004.  , 2004.04, 2004.08, 2004.12, 2004.16, 2004.2 , 2004.24,\n        2004.28, 2004.32, 2004.36, 2004.4 , 2004.44, 2004.48, 2004.52,\n        2004.56, 2004.6 , 2004.64, 2004.68, 2004.72, 2004.76, 2004.8 ,\n        2004.84, 2004.88, 2004.92, 2004.96, 2005.  , 2005.04, 2005.08,\n        2005.12, 2005.16, 2005.2 , 2005.24, 2005.28, 2005.32, 2005.36,\n        2005.4 , 2005.44, 2005.48, 2005.52, 2005.56, 2005.6 , 2005.64,\n        2005.68, 2005.72, 2005.76, 2005.8 , 2005.84, 2005.88, 2005.92,\n        2005.96, 2006.  , 2006.04, 2006.08, 2006.12, 2006.16, 2006.2 ,\n        2006.24, 2006.28, 2006.32, 2006.36, 2006.4 , 2006.44, 2006.48,\n        2006.52, 2006.56, 2006.6 , 2006.64, 2006.68, 2006.72, 2006.76,\n        2006.8 , 2006.84, 2006.88, 2006.92, 2006.96, 2007.  , 2007.04,\n        2007.08, 2007.12, 2007.16, 2007.2 , 2007.24, 2007.28, 2007.32,\n        2007.36, 2007.4 , 2007.44, 2007.48, 2007.52, 2007.56, 2007.6 ,\n        2007.64, 2007.68, 2007.72, 2007.76, 2007.8 , 2007.84, 2007.88,\n        2007.92, 2007.96, 2008.  ]),\n <a list of 100 Patch objects>)"
     },
     "metadata": {},
     "output_type": "execute_result",
     "execution_count": 21
    },
    {
     "data": {
      "text/plain": "<Figure size 432x288 with 1 Axes>",
      "image/png": "[encoded data removed]"
     },
     "metadata": {
      "needs_background": "light"
     },
     "output_type": "display_data"
    }
   ],
   "source": [
    "plt.hist(y_pred, bins=100)"
   ]
  },
  {
   "cell_type": "markdown",
   "metadata": {},
   "source": [
    "Let's compare this to the actual distribution of the test labels. There is still a bias towards what looks like 2004, but overall, there is a distribution here."
   ]
  },
  {
   "cell_type": "code",
   "execution_count": 22,
   "metadata": {
    "pycharm": {
     "is_executing": false
    }
   },
   "outputs": [
    {
     "data": {
      "text/plain": "(array([  2.,   4.,   0.,   0.,   0.,   0.,   0.,   0.,   3.,   0.,   0.,\n          0.,  31.,   0.,   0.,   0.,   0.,   0.,   0.,   0.,   0.,   0.,\n          0.,   0.,   0.,   0.,   0.,   0.,   0.,   0.,   0.,   0.,   2.,\n          0.,   0.,   3.,   1.,   0.,   0.,   0.,   1.,   3.,   6.,   0.,\n          0.,   5.,   4.,   0.,   2.,   0.,  11.,   0.,   3.,   1.,   0.,\n          0.,   0.,   0.,   2.,   0.,   2.,   0.,   6.,   9.,   0.,  30.,\n          0.,  14.,   0.,   0.,   7.,   7.,  19.,   9.,   0.,  20.,  24.,\n         33.,   6.,   0.,  14.,  16.,  28.,  35.,   0.,  49.,  25.,  41.,\n         56.,   0.,   1.,  78.,  75.,  40.,   0., 116.,  64.,  36.,  41.,\n         15.]),\n array([1930. , 1930.8, 1931.6, 1932.4, 1933.2, 1934. , 1934.8, 1935.6,\n        1936.4, 1937.2, 1938. , 1938.8, 1939.6, 1940.4, 1941.2, 1942. ,\n        1942.8, 1943.6, 1944.4, 1945.2, 1946. , 1946.8, 1947.6, 1948.4,\n        1949.2, 1950. , 1950.8, 1951.6, 1952.4, 1953.2, 1954. , 1954.8,\n        1955.6, 1956.4, 1957.2, 1958. , 1958.8, 1959.6, 1960.4, 1961.2,\n        1962. , 1962.8, 1963.6, 1964.4, 1965.2, 1966. , 1966.8, 1967.6,\n        1968.4, 1969.2, 1970. , 1970.8, 1971.6, 1972.4, 1973.2, 1974. ,\n        1974.8, 1975.6, 1976.4, 1977.2, 1978. , 1978.8, 1979.6, 1980.4,\n        1981.2, 1982. , 1982.8, 1983.6, 1984.4, 1985.2, 1986. , 1986.8,\n        1987.6, 1988.4, 1989.2, 1990. , 1990.8, 1991.6, 1992.4, 1993.2,\n        1994. , 1994.8, 1995.6, 1996.4, 1997.2, 1998. , 1998.8, 1999.6,\n        2000.4, 2001.2, 2002. , 2002.8, 2003.6, 2004.4, 2005.2, 2006. ,\n        2006.8, 2007.6, 2008.4, 2009.2, 2010. ]),\n <a list of 100 Patch objects>)"
     },
     "metadata": {},
     "output_type": "execute_result",
     "execution_count": 22
    },
    {
     "data": {
      "text/plain": "<Figure size 432x288 with 1 Axes>",
      "image/png": "[encoded data removed]"
     },
     "metadata": {
      "needs_background": "light"
     },
     "output_type": "display_data"
    }
   ],
   "source": [
    "plt.hist(test_labels, bins=100)"
   ]
  },
  {
   "cell_type": "markdown",
   "metadata": {
    "collapsed": true
   },
   "source": [
    "Observing the training labels, there is more of a distribution than in the predicted labels. What could be causing the network to skew towards a particular class even though it is being trained on a decent distribution? "
   ]
  },
  {
   "cell_type": "code",
   "execution_count": 23,
   "metadata": {
    "pycharm": {
     "is_executing": false
    }
   },
   "outputs": [
    {
     "data": {
      "text/plain": "(array([  3.,   0.,   0.,   1.,   0.,   1.,   0.,   0.,   0.,   0.,   0.,\n          0.,   0.,   5.,   1.,   1.,   0.,   6.,   0.,   0.,   0.,   0.,\n          0.,   0.,   0.,   0.,   0.,   0.,   0.,   6.,   0.,   0.,   0.,\n          8.,   0.,   3.,  21.,   0.,   1.,   7.,  27.,  26.,  46.,  21.,\n          0.,  18.,  27.,  56.,  30.,  76.,   0.,  44.,  48.,  35.,  54.,\n         38.,   0.,  18.,  55.,  46.,  59.,  48.,  62.,   0.,  15.,  44.,\n         40.,  86., 122.,   0., 140., 115., 146., 159., 263.,   0., 230.,\n        318., 228., 313., 348., 385.,   0., 369., 456., 507., 535., 795.,\n          0., 711., 717., 774., 738., 450.,  98.]),\n array([1930.        , 1930.84210526, 1931.68421053, 1932.52631579,\n        1933.36842105, 1934.21052632, 1935.05263158, 1935.89473684,\n        1936.73684211, 1937.57894737, 1938.42105263, 1939.26315789,\n        1940.10526316, 1940.94736842, 1941.78947368, 1942.63157895,\n        1943.47368421, 1944.31578947, 1945.15789474, 1946.        ,\n        1946.84210526, 1947.68421053, 1948.52631579, 1949.36842105,\n        1950.21052632, 1951.05263158, 1951.89473684, 1952.73684211,\n        1953.57894737, 1954.42105263, 1955.26315789, 1956.10526316,\n        1956.94736842, 1957.78947368, 1958.63157895, 1959.47368421,\n        1960.31578947, 1961.15789474, 1962.        , 1962.84210526,\n        1963.68421053, 1964.52631579, 1965.36842105, 1966.21052632,\n        1967.05263158, 1967.89473684, 1968.73684211, 1969.57894737,\n        1970.42105263, 1971.26315789, 1972.10526316, 1972.94736842,\n        1973.78947368, 1974.63157895, 1975.47368421, 1976.31578947,\n        1977.15789474, 1978.        , 1978.84210526, 1979.68421053,\n        1980.52631579, 1981.36842105, 1982.21052632, 1983.05263158,\n        1983.89473684, 1984.73684211, 1985.57894737, 1986.42105263,\n        1987.26315789, 1988.10526316, 1988.94736842, 1989.78947368,\n        1990.63157895, 1991.47368421, 1992.31578947, 1993.15789474,\n        1994.        , 1994.84210526, 1995.68421053, 1996.52631579,\n        1997.36842105, 1998.21052632, 1999.05263158, 1999.89473684,\n        2000.73684211, 2001.57894737, 2002.42105263, 2003.26315789,\n        2004.10526316, 2004.94736842, 2005.78947368, 2006.63157895,\n        2007.47368421, 2008.31578947, 2009.15789474, 2010.        ]),\n <a list of 95 Patch objects>)"
     },
     "metadata": {},
     "output_type": "execute_result",
     "execution_count": 23
    },
    {
     "data": {
      "text/plain": "<Figure size 432x288 with 1 Axes>",
      "image/png": "[encoded data removed]"
     },
     "metadata": {
      "needs_background": "light"
     },
     "output_type": "display_data"
    }
   ],
   "source": [
    "plt.hist(training_labels, bins=95)"
   ]
  },
  {
   "cell_type": "markdown",
   "metadata": {
    "collapsed": true
   },
   "source": [
    "Alpha is the regularization parameter... how about a large alpha, like 10?"
   ]
  },
  {
   "cell_type": "code",
   "execution_count": 24,
   "metadata": {
    "pycharm": {
     "is_executing": false
    }
   },
   "outputs": [
    {
     "name": "stderr",
     "text": [
      "/home/juice100/miniconda3/envs/Cyanite/lib/python3.7/site-packages/sklearn/neural_network/_multilayer_perceptron.py:585: ConvergenceWarning: Stochastic Optimizer: Maximum iterations (200) reached and the optimization hasn't converged yet.\n",
      "  % self.max_iter, ConvergenceWarning)\n"
     ],
     "output_type": "stream"
    },
    {
     "data": {
      "text/plain": "MLPClassifier(alpha=10, hidden_layer_sizes=(100, 100, 100, 100), random_state=1,\n              solver='sgd')"
     },
     "metadata": {},
     "output_type": "execute_result",
     "execution_count": 24
    }
   ],
   "source": [
    "clf = MLPClassifier(solver='sgd', alpha=10,\n",
    "                     hidden_layer_sizes=(100, 100, 100, 100), random_state=1)\n",
    "\n",
    "clf.fit(training_examples, training_labels)                         \n"
   ]
  },
  {
   "cell_type": "code",
   "execution_count": 25,
   "metadata": {
    "collapsed": true,
    "pycharm": {
     "is_executing": false
    }
   },
   "outputs": [],
   "source": [
    "y_pred = clf.predict(test_examples)"
   ]
  },
  {
   "cell_type": "markdown",
   "metadata": {
    "collapsed": true
   },
   "source": [
    "More of the same. A class in the 2000s is still being selected for more than anything else."
   ]
  },
  {
   "cell_type": "code",
   "execution_count": 26,
   "metadata": {
    "pycharm": {
     "is_executing": false
    }
   },
   "outputs": [
    {
     "data": {
      "text/plain": "(array([436.,   0.,   0.,   0.,   0.,   0.,   0.,   0.,   0.,   0.,   0.,\n          0.,   0.,   0.,   0.,   0.,   0.,   0.,   0.,   0.,   0.,   0.,\n          0.,   0.,   0.,   0.,   0.,   0.,   0.,   0.,   0.,   0.,   0.,\n          0.,   0.,   0.,   0.,   0.,   0.,   0.,   0.,   0.,   0.,   0.,\n          0.,   0.,   0.,   0.,   0.,   0.,   0.,   0.,   0.,   0.,   0.,\n          0.,   0.,   0.,   0.,   0.,   0.,   0.,   0.,   0.,   0.,   0.,\n          0.,   0.,   0.,   0.,   0.,   0.,   0.,   0.,   0.,   0.,   0.,\n          0.,   0.,   0.,   0.,   0.,   0.,   0.,   0.,   0.,   0.,   0.,\n          0.,   0.,   0.,   0.,   0.,   0., 564.]),\n array([2004.        , 2004.03157895, 2004.06315789, 2004.09473684,\n        2004.12631579, 2004.15789474, 2004.18947368, 2004.22105263,\n        2004.25263158, 2004.28421053, 2004.31578947, 2004.34736842,\n        2004.37894737, 2004.41052632, 2004.44210526, 2004.47368421,\n        2004.50526316, 2004.53684211, 2004.56842105, 2004.6       ,\n        2004.63157895, 2004.66315789, 2004.69473684, 2004.72631579,\n        2004.75789474, 2004.78947368, 2004.82105263, 2004.85263158,\n        2004.88421053, 2004.91578947, 2004.94736842, 2004.97894737,\n        2005.01052632, 2005.04210526, 2005.07368421, 2005.10526316,\n        2005.13684211, 2005.16842105, 2005.2       , 2005.23157895,\n        2005.26315789, 2005.29473684, 2005.32631579, 2005.35789474,\n        2005.38947368, 2005.42105263, 2005.45263158, 2005.48421053,\n        2005.51578947, 2005.54736842, 2005.57894737, 2005.61052632,\n        2005.64210526, 2005.67368421, 2005.70526316, 2005.73684211,\n        2005.76842105, 2005.8       , 2005.83157895, 2005.86315789,\n        2005.89473684, 2005.92631579, 2005.95789474, 2005.98947368,\n        2006.02105263, 2006.05263158, 2006.08421053, 2006.11578947,\n        2006.14736842, 2006.17894737, 2006.21052632, 2006.24210526,\n        2006.27368421, 2006.30526316, 2006.33684211, 2006.36842105,\n        2006.4       , 2006.43157895, 2006.46315789, 2006.49473684,\n        2006.52631579, 2006.55789474, 2006.58947368, 2006.62105263,\n        2006.65263158, 2006.68421053, 2006.71578947, 2006.74736842,\n        2006.77894737, 2006.81052632, 2006.84210526, 2006.87368421,\n        2006.90526316, 2006.93684211, 2006.96842105, 2007.        ]),\n <a list of 95 Patch objects>)"
     },
     "metadata": {},
     "output_type": "execute_result",
     "execution_count": 26
    },
    {
     "data": {
      "text/plain": "<Figure size 432x288 with 1 Axes>",
      "image/png": "[encoded data removed]"
     },
     "metadata": {
      "needs_background": "light"
     },
     "output_type": "display_data"
    }
   ],
   "source": [
    "plt.hist(y_pred, bins=95)"
   ]
  },
  {
   "cell_type": "markdown",
   "metadata": {
    "collapsed": true
   },
   "source": [
    "How about a small alpha-- alpha = 0.0001"
   ]
  },
  {
   "cell_type": "code",
   "execution_count": 27,
   "metadata": {
    "pycharm": {
     "is_executing": false
    }
   },
   "outputs": [
    {
     "data": {
      "text/plain": "MLPClassifier(hidden_layer_sizes=(100, 100, 100, 100), random_state=1,\n              solver='sgd')"
     },
     "metadata": {},
     "output_type": "execute_result",
     "execution_count": 27
    }
   ],
   "source": [
    "clf = MLPClassifier(solver='sgd', alpha=0.0001,\n",
    "                     hidden_layer_sizes=(100, 100, 100, 100), random_state=1)\n",
    "\n",
    "clf.fit(training_examples, training_labels)     "
   ]
  },
  {
   "cell_type": "code",
   "execution_count": 28,
   "metadata": {
    "collapsed": true,
    "pycharm": {
     "is_executing": false
    }
   },
   "outputs": [],
   "source": [
    "y_pred = clf.predict(test_examples)"
   ]
  },
  {
   "cell_type": "code",
   "execution_count": 29,
   "metadata": {
    "pycharm": {
     "is_executing": false
    }
   },
   "outputs": [
    {
     "data": {
      "text/plain": "(array([999.,   0.,   0.,   0.,   0.,   0.,   0.,   0.,   0.,   0.,   0.,\n          0.,   0.,   0.,   0.,   0.,   0.,   0.,   0.,   0.,   0.,   0.,\n          0.,   0.,   0.,   0.,   0.,   0.,   0.,   0.,   0.,   0.,   0.,\n          0.,   0.,   0.,   0.,   0.,   0.,   0.,   0.,   0.,   0.,   0.,\n          0.,   0.,   0.,   0.,   0.,   0.,   0.,   0.,   0.,   0.,   0.,\n          0.,   0.,   0.,   0.,   0.,   0.,   0.,   0.,   0.,   0.,   0.,\n          0.,   0.,   0.,   0.,   0.,   0.,   0.,   0.,   0.,   0.,   0.,\n          0.,   0.,   0.,   0.,   0.,   0.,   0.,   0.,   0.,   0.,   0.,\n          0.,   0.,   0.,   0.,   0.,   0.,   1.]),\n array([2004.        , 2004.04210526, 2004.08421053, 2004.12631579,\n        2004.16842105, 2004.21052632, 2004.25263158, 2004.29473684,\n        2004.33684211, 2004.37894737, 2004.42105263, 2004.46315789,\n        2004.50526316, 2004.54736842, 2004.58947368, 2004.63157895,\n        2004.67368421, 2004.71578947, 2004.75789474, 2004.8       ,\n        2004.84210526, 2004.88421053, 2004.92631579, 2004.96842105,\n        2005.01052632, 2005.05263158, 2005.09473684, 2005.13684211,\n        2005.17894737, 2005.22105263, 2005.26315789, 2005.30526316,\n        2005.34736842, 2005.38947368, 2005.43157895, 2005.47368421,\n        2005.51578947, 2005.55789474, 2005.6       , 2005.64210526,\n        2005.68421053, 2005.72631579, 2005.76842105, 2005.81052632,\n        2005.85263158, 2005.89473684, 2005.93684211, 2005.97894737,\n        2006.02105263, 2006.06315789, 2006.10526316, 2006.14736842,\n        2006.18947368, 2006.23157895, 2006.27368421, 2006.31578947,\n        2006.35789474, 2006.4       , 2006.44210526, 2006.48421053,\n        2006.52631579, 2006.56842105, 2006.61052632, 2006.65263158,\n        2006.69473684, 2006.73684211, 2006.77894737, 2006.82105263,\n        2006.86315789, 2006.90526316, 2006.94736842, 2006.98947368,\n        2007.03157895, 2007.07368421, 2007.11578947, 2007.15789474,\n        2007.2       , 2007.24210526, 2007.28421053, 2007.32631579,\n        2007.36842105, 2007.41052632, 2007.45263158, 2007.49473684,\n        2007.53684211, 2007.57894737, 2007.62105263, 2007.66315789,\n        2007.70526316, 2007.74736842, 2007.78947368, 2007.83157895,\n        2007.87368421, 2007.91578947, 2007.95789474, 2008.        ]),\n <a list of 95 Patch objects>)"
     },
     "metadata": {},
     "output_type": "execute_result",
     "execution_count": 29
    },
    {
     "data": {
      "text/plain": "<Figure size 432x288 with 1 Axes>",
      "image/png": "[encoded data removed]"
     },
     "metadata": {
      "needs_background": "light"
     },
     "output_type": "display_data"
    }
   ],
   "source": [
    "plt.hist(y_pred, bins = 95)"
   ]
  },
  {
   "cell_type": "markdown",
   "metadata": {
    "collapsed": true
   },
   "source": [
    "Let's increase the number of training examples to 100,000."
   ]
  },
  {
   "cell_type": "code",
   "execution_count": 30,
   "metadata": {
    "collapsed": true,
    "pycharm": {
     "is_executing": false
    }
   },
   "outputs": [],
   "source": [
    "training_examples = total_array[:100000]\n",
    "#training_examples = random.sample(total_array, 10)\n",
    "training_labels = total_labels[:100000]"
   ]
  },
  {
   "cell_type": "code",
   "execution_count": 31,
   "metadata": {
    "pycharm": {
     "is_executing": false
    }
   },
   "outputs": [
    {
     "data": {
      "text/plain": "MLPClassifier(alpha=1e-05, hidden_layer_sizes=(100, 100, 100, 100),\n              random_state=1, solver='sgd')"
     },
     "metadata": {},
     "output_type": "execute_result",
     "execution_count": 31
    }
   ],
   "source": [
    "clf = MLPClassifier(solver='sgd', alpha=1e-5,\n",
    "                     hidden_layer_sizes=(100, 100, 100, 100), random_state=1)\n",
    "\n",
    "clf.fit(training_examples, training_labels)  "
   ]
  },
  {
   "cell_type": "code",
   "execution_count": 32,
   "metadata": {
    "collapsed": true,
    "pycharm": {
     "is_executing": false
    }
   },
   "outputs": [],
   "source": [
    "y_pred = clf.predict(test_examples)"
   ]
  },
  {
   "cell_type": "markdown",
   "metadata": {
    "collapsed": true
   },
   "source": [
    "No improvement. Still favoring a single class."
   ]
  },
  {
   "cell_type": "code",
   "execution_count": 33,
   "metadata": {
    "pycharm": {
     "is_executing": false
    }
   },
   "outputs": [
    {
     "data": {
      "text/plain": "(array([   0.,    0.,    0.,    0.,    0.,    0.,    0.,    0.,    0.,\n           0.,    0.,    0.,    0.,    0.,    0.,    0.,    0.,    0.,\n           0.,    0.,    0.,    0.,    0.,    0.,    0.,    0.,    0.,\n           0.,    0.,    0.,    0.,    0.,    0.,    0.,    0.,    0.,\n           0.,    0.,    0.,    0.,    0.,    0.,    0.,    0.,    0.,\n           0.,    0., 1000.,    0.,    0.,    0.,    0.,    0.,    0.,\n           0.,    0.,    0.,    0.,    0.,    0.,    0.,    0.,    0.,\n           0.,    0.,    0.,    0.,    0.,    0.,    0.,    0.,    0.,\n           0.,    0.,    0.,    0.,    0.,    0.,    0.,    0.,    0.,\n           0.,    0.,    0.,    0.,    0.,    0.,    0.,    0.,    0.,\n           0.,    0.,    0.,    0.,    0.]),\n array([2006.5       , 2006.51052632, 2006.52105263, 2006.53157895,\n        2006.54210526, 2006.55263158, 2006.56315789, 2006.57368421,\n        2006.58421053, 2006.59473684, 2006.60526316, 2006.61578947,\n        2006.62631579, 2006.63684211, 2006.64736842, 2006.65789474,\n        2006.66842105, 2006.67894737, 2006.68947368, 2006.7       ,\n        2006.71052632, 2006.72105263, 2006.73157895, 2006.74210526,\n        2006.75263158, 2006.76315789, 2006.77368421, 2006.78421053,\n        2006.79473684, 2006.80526316, 2006.81578947, 2006.82631579,\n        2006.83684211, 2006.84736842, 2006.85789474, 2006.86842105,\n        2006.87894737, 2006.88947368, 2006.9       , 2006.91052632,\n        2006.92105263, 2006.93157895, 2006.94210526, 2006.95263158,\n        2006.96315789, 2006.97368421, 2006.98421053, 2006.99473684,\n        2007.00526316, 2007.01578947, 2007.02631579, 2007.03684211,\n        2007.04736842, 2007.05789474, 2007.06842105, 2007.07894737,\n        2007.08947368, 2007.1       , 2007.11052632, 2007.12105263,\n        2007.13157895, 2007.14210526, 2007.15263158, 2007.16315789,\n        2007.17368421, 2007.18421053, 2007.19473684, 2007.20526316,\n        2007.21578947, 2007.22631579, 2007.23684211, 2007.24736842,\n        2007.25789474, 2007.26842105, 2007.27894737, 2007.28947368,\n        2007.3       , 2007.31052632, 2007.32105263, 2007.33157895,\n        2007.34210526, 2007.35263158, 2007.36315789, 2007.37368421,\n        2007.38421053, 2007.39473684, 2007.40526316, 2007.41578947,\n        2007.42631579, 2007.43684211, 2007.44736842, 2007.45789474,\n        2007.46842105, 2007.47894737, 2007.48947368, 2007.5       ]),\n <a list of 95 Patch objects>)"
     },
     "metadata": {},
     "output_type": "execute_result",
     "execution_count": 33
    },
    {
     "data": {
      "text/plain": "<Figure size 432x288 with 1 Axes>",
      "image/png": "[encoded data removed]"
     },
     "metadata": {
      "needs_background": "light"
     },
     "output_type": "display_data"
    }
   ],
   "source": [
    "plt.hist(y_pred, bins=95)"
   ]
  },
  {
   "cell_type": "markdown",
   "metadata": {
    "collapsed": true
   },
   "source": [
    "How about an adaptive learning rate? By default, MLP-classifier uses a constant learning rate. To read more about learning rates visit: http://scikit-learn.org/stable/modules/generated/sklearn.neural_network.MLPClassifier.html"
   ]
  },
  {
   "cell_type": "code",
   "execution_count": 34,
   "metadata": {
    "pycharm": {
     "is_executing": false
    }
   },
   "outputs": [
    {
     "data": {
      "text/plain": "MLPClassifier(alpha=1e-05, hidden_layer_sizes=(100, 100, 100, 100),\n              learning_rate='adaptive', random_state=1, solver='sgd')"
     },
     "metadata": {},
     "output_type": "execute_result",
     "execution_count": 34
    }
   ],
   "source": [
    "clf = MLPClassifier(solver='sgd', alpha=1e-5,\n",
    "                     hidden_layer_sizes=(100, 100, 100, 100), random_state=1, learning_rate=\"adaptive\")\n",
    "\n",
    "clf.fit(training_examples, training_labels) "
   ]
  },
  {
   "cell_type": "code",
   "execution_count": 35,
   "metadata": {
    "collapsed": true,
    "pycharm": {
     "is_executing": false
    }
   },
   "outputs": [],
   "source": [
    "y_pred = clf.predict(test_examples)"
   ]
  },
  {
   "cell_type": "markdown",
   "metadata": {
    "collapsed": true
   },
   "source": [
    "More of the same. More training data + an adaptive learning rate doesn't seem to work."
   ]
  },
  {
   "cell_type": "code",
   "execution_count": 36,
   "metadata": {
    "pycharm": {
     "is_executing": false
    }
   },
   "outputs": [
    {
     "data": {
      "text/plain": "(array([   0.,    0.,    0.,    0.,    0.,    0.,    0.,    0.,    0.,\n           0.,    0.,    0.,    0.,    0.,    0.,    0.,    0.,    0.,\n           0.,    0.,    0.,    0.,    0.,    0.,    0.,    0.,    0.,\n           0.,    0.,    0.,    0.,    0.,    0.,    0.,    0.,    0.,\n           0.,    0.,    0.,    0.,    0.,    0.,    0.,    0.,    0.,\n           0.,    0., 1000.,    0.,    0.,    0.,    0.,    0.,    0.,\n           0.,    0.,    0.,    0.,    0.,    0.,    0.,    0.,    0.,\n           0.,    0.,    0.,    0.,    0.,    0.,    0.,    0.,    0.,\n           0.,    0.,    0.,    0.,    0.,    0.,    0.,    0.,    0.,\n           0.,    0.,    0.,    0.,    0.,    0.,    0.,    0.,    0.,\n           0.,    0.,    0.,    0.,    0.]),\n array([2006.5       , 2006.51052632, 2006.52105263, 2006.53157895,\n        2006.54210526, 2006.55263158, 2006.56315789, 2006.57368421,\n        2006.58421053, 2006.59473684, 2006.60526316, 2006.61578947,\n        2006.62631579, 2006.63684211, 2006.64736842, 2006.65789474,\n        2006.66842105, 2006.67894737, 2006.68947368, 2006.7       ,\n        2006.71052632, 2006.72105263, 2006.73157895, 2006.74210526,\n        2006.75263158, 2006.76315789, 2006.77368421, 2006.78421053,\n        2006.79473684, 2006.80526316, 2006.81578947, 2006.82631579,\n        2006.83684211, 2006.84736842, 2006.85789474, 2006.86842105,\n        2006.87894737, 2006.88947368, 2006.9       , 2006.91052632,\n        2006.92105263, 2006.93157895, 2006.94210526, 2006.95263158,\n        2006.96315789, 2006.97368421, 2006.98421053, 2006.99473684,\n        2007.00526316, 2007.01578947, 2007.02631579, 2007.03684211,\n        2007.04736842, 2007.05789474, 2007.06842105, 2007.07894737,\n        2007.08947368, 2007.1       , 2007.11052632, 2007.12105263,\n        2007.13157895, 2007.14210526, 2007.15263158, 2007.16315789,\n        2007.17368421, 2007.18421053, 2007.19473684, 2007.20526316,\n        2007.21578947, 2007.22631579, 2007.23684211, 2007.24736842,\n        2007.25789474, 2007.26842105, 2007.27894737, 2007.28947368,\n        2007.3       , 2007.31052632, 2007.32105263, 2007.33157895,\n        2007.34210526, 2007.35263158, 2007.36315789, 2007.37368421,\n        2007.38421053, 2007.39473684, 2007.40526316, 2007.41578947,\n        2007.42631579, 2007.43684211, 2007.44736842, 2007.45789474,\n        2007.46842105, 2007.47894737, 2007.48947368, 2007.5       ]),\n <a list of 95 Patch objects>)"
     },
     "metadata": {},
     "output_type": "execute_result",
     "execution_count": 36
    },
    {
     "data": {
      "text/plain": "<Figure size 432x288 with 1 Axes>",
      "image/png": "[encoded data removed]"
     },
     "metadata": {
      "needs_background": "light"
     },
     "output_type": "display_data"
    }
   ],
   "source": [
    "plt.hist(y_pred, bins = 95)"
   ]
  },
  {
   "cell_type": "markdown",
   "metadata": {
    "collapsed": true
   },
   "source": [
    "Let's observe the actual count of each class in the full dataset. These numbers confirm what the histograms told us-- most of the labels are for music from the late 90s and early 2000s. Even so, the data isn't so skewed that a neural net is completely ineffective... there is more to this story that we are not seeing yet."
   ]
  },
  {
   "cell_type": "code",
   "execution_count": 37,
   "metadata": {
    "collapsed": true,
    "pycharm": {
     "is_executing": false
    }
   },
   "outputs": [],
   "source": [
    "label_counts = {}\n",
    "\n",
    "for item in labels:\n",
    "    if item not in label_counts:\n",
    "        label_counts[item] = 1\n",
    "    else:\n",
    "        label_counts[item] += 1"
   ]
  },
  {
   "cell_type": "code",
   "execution_count": 38,
   "metadata": {
    "pycharm": {
     "is_executing": false
    }
   },
   "outputs": [
    {
     "data": {
      "text/plain": "{2001: 21590,\n 2007: 39404,\n 2008: 34760,\n 2002: 23451,\n 2004: 29607,\n 2003: 27382,\n 1999: 18238,\n 1992: 9543,\n 1997: 15182,\n 1987: 5122,\n 2000: 19285,\n 2005: 34952,\n 1996: 14130,\n 1998: 15814,\n 2009: 31038,\n 2006: 37534,\n 1993: 10525,\n 1991: 8647,\n 1933: 6,\n 1930: 40,\n 1935: 24,\n 1995: 13257,\n 1941: 32,\n 1990: 7256,\n 1943: 14,\n 1994: 12121,\n 1974: 2184,\n 1976: 2179,\n 1975: 2482,\n 1970: 2349,\n 1971: 2131,\n 1981: 3162,\n 1989: 6670,\n 1969: 2210,\n 1972: 2288,\n 1973: 2596,\n 1983: 3386,\n 2010: 9396,\n 1985: 3578,\n 1988: 5611,\n 1979: 3108,\n 1980: 3101,\n 1986: 4219,\n 1958: 583,\n 1978: 2926,\n 1968: 1867,\n 1962: 605,\n 1967: 1718,\n 1982: 3597,\n 1984: 3368,\n 1961: 571,\n 1966: 1377,\n 1964: 945,\n 1960: 424,\n 1965: 1120,\n 1963: 902,\n 1977: 2502,\n 1942: 24,\n 1945: 30,\n 1955: 275,\n 1926: 19,\n 1927: 42,\n 1957: 597,\n 1959: 592,\n 1956: 565,\n 1954: 123,\n 1928: 52,\n 1948: 43,\n 1922: 6,\n 1952: 77,\n 1953: 133,\n 1944: 15,\n 1946: 29,\n 1949: 60,\n 1950: 83,\n 1939: 35,\n 1932: 11,\n 1938: 19,\n 1937: 28,\n 1936: 25,\n 1940: 52,\n 1951: 74,\n 1929: 93,\n 1934: 29,\n 1947: 57,\n 1931: 35,\n 1925: 7,\n 1924: 5,\n 2011: 1}"
     },
     "metadata": {},
     "output_type": "execute_result",
     "execution_count": 38
    }
   ],
   "source": [
    "label_counts"
   ]
  },
  {
   "cell_type": "markdown",
   "metadata": {},
   "source": [
    "The above confirms our intuition that the dataset is biased towards music from the 90s and 2000s."
   ]
  },
  {
   "cell_type": "code",
   "execution_count": 39,
   "metadata": {
    "pycharm": {
     "is_executing": false
    }
   },
   "outputs": [
    {
     "traceback": [
      "\u001b[0;36m  File \u001b[0;32m\"<ipython-input-39-10db750c53d9>\"\u001b[0;36m, line \u001b[0;32m30\u001b[0m\n\u001b[0;31m    print len(familiarity)\u001b[0m\n\u001b[0m            ^\u001b[0m\n\u001b[0;31mSyntaxError\u001b[0m\u001b[0;31m:\u001b[0m invalid syntax\n"
     ],
     "ename": "SyntaxError",
     "evalue": "invalid syntax (<ipython-input-39-10db750c53d9>, line 30)",
     "output_type": "error"
    }
   ],
   "source": [
    "import math \n",
    "\n",
    "familiarity = []\n",
    "hotttness = []\n",
    "count = 0\n",
    "\n",
    "# Replace filename with the path to the CSV where you have the year predictions data saved.\n",
    "filename = \"/mnt/c/Users/Aumit/Documents/GitHub/million-song-analysis/fam_vs_hot.csv\"\n",
    "with open(filename, 'r') as f:\n",
    "    for line in f:\n",
    "        if count == 0:\n",
    "            count += 1\n",
    "            continue\n",
    "        else:\n",
    "        \n",
    "            content = line.split(\",\")\n",
    "\n",
    "            # temp1 = float(content) \n",
    "            familiarity.append(float(content[0]))\n",
    "\n",
    "            #content.pop(0)\n",
    "\n",
    "            #content = [float(elem) for elem in content]\n",
    "\n",
    "            # If we want a list of numpy arrays, not necessary\n",
    "            #npa = np.asarray(content, dtype=np.float64)\n",
    "\n",
    "            hotttness.append(float(content[1]))\n",
    "        count += 1\n",
    "print len(familiarity)\n",
    "print len(hotttness)\n",
    "for elem, elem1 in zip(familiarity, hotttness):\n",
    "    if math.isnan(elem) or math.isnan(elem1):\n",
    "        ind = familiarity.index(elem)\n",
    "        ind1 = hotttness.index(elem1)\n",
    "        del familiarity[ind]\n",
    "        del hotttness [ind1]\n",
    "\n",
    "print len(familiarity)\n",
    "print len(hotttness)\n",
    "\n",
    "#[value for value in familiarity if not math.isnan(value)]\n",
    "#[value1 for value1 in hotttness if not math.isnan(value1)]\n",
    "        \n",
    "        \n",
    "total_hotttness = np.array(hotttness)\n",
    "total_familiarity = np.array(familiarity)\n",
    "\n"
   ]
  },
  {
   "cell_type": "code",
   "execution_count": null,
   "metadata": {
    "scrolled": true,
    "pycharm": {
     "is_executing": false
    }
   },
   "outputs": [],
   "source": [
    "# fit with np.polyfit\n",
    "m, b = np.polyfit(total_familiarity, total_hotttness, 1)\n",
    "\n",
    "plt.plot(total_familiarity, total_hotttness, '.')\n",
    "plt.xlabel(\"Familiarity\")\n",
    "plt.ylabel(\"Hotttness\")\n",
    "plt.title(\"Artist Familiarity vs. Artist Hotttness\")\n",
    "plt.plot(total_familiarity, m*total_familiarity + b, '-')\n",
    "plt.yticks(np.arange(min(total_hotttness), max(total_hotttness), 0.4))"
   ]
  },
  {
   "cell_type": "markdown",
   "metadata": {},
   "source": [
    "From the above, it's obvious that that there is a correlation between certain variables-- we can use this insight to perform better, more targetted feature extraction to increase the accuracy of our models. "
   ]
  }
 ],
 "metadata": {
  "kernelspec": {
   "name": "python3",
   "language": "python",
   "display_name": "Python 3"
  },
  "language_info": {
   "codemirror_mode": {
    "name": "ipython",
    "version": 2
   },
   "file_extension": ".py",
   "mimetype": "text/x-python",
   "name": "python",
   "nbconvert_exporter": "python",
   "pygments_lexer": "ipython2",
   "version": "2.7.6"
  },
  "pycharm": {
   "stem_cell": {
    "cell_type": "raw",
    "source": [],
    "metadata": {
     "collapsed": false
    }
   }
  }
 },
 "nbformat": 4,
 "nbformat_minor": 2
}